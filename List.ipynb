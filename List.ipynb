{
  "nbformat": 4,
  "nbformat_minor": 0,
  "metadata": {
    "colab": {
      "name": "List.ipynb",
      "provenance": []
    },
    "kernelspec": {
      "name": "python3",
      "display_name": "Python 3"
    },
    "language_info": {
      "name": "python"
    }
  },
  "cells": [
    {
      "cell_type": "code",
      "execution_count": 9,
      "metadata": {
        "colab": {
          "base_uri": "https://localhost:8080/"
        },
        "id": "3TAlsJ5lESn1",
        "outputId": "f7afe105-481f-4156-bf40-f3fc72f2ffa7"
      },
      "outputs": [
        {
          "output_type": "stream",
          "name": "stdout",
          "text": [
            "JOSEPH JOBY\n",
            "JOSEPH JOBY\n",
            "JOSEPH JOBY\n",
            "JOSEPH JOBY\n",
            "JOSEPH JOBY\n",
            "JOSEPH JOBY\n",
            "JOSEPH JOBY\n",
            "JOSEPH JOBY\n",
            "JOSEPH JOBY\n",
            "JOSEPH JOBY\n",
            "JOSEPH JOBY\n",
            "JOSEPH JOBY\n",
            "JOSEPH JOBY\n",
            "JOSEPH JOBY\n",
            "JOSEPH JOBY\n",
            "JOSEPH JOBY\n",
            "JOSEPH JOBY\n",
            "JOSEPH JOBY\n",
            "JOSEPH JOBY\n",
            "JOSEPH JOBY\n"
          ]
        }
      ],
      "source": [
        "x=0\n",
        "while x<20:\n",
        "  print (\"JOSEPH JOBY\")\n",
        "  x=x+1"
      ]
    },
    {
      "cell_type": "code",
      "source": [
        "x=0\n",
        "result=0\n",
        "while x<10:\n",
        "   result=result+x\n",
        "   x=x+1\n",
        "   print (result)"
      ],
      "metadata": {
        "colab": {
          "base_uri": "https://localhost:8080/"
        },
        "id": "adxL63sRGRvU",
        "outputId": "b87e760c-8142-4d00-887c-143b61056fed"
      },
      "execution_count": 10,
      "outputs": [
        {
          "output_type": "stream",
          "name": "stdout",
          "text": [
            "0\n",
            "1\n",
            "3\n",
            "6\n",
            "10\n",
            "15\n",
            "21\n",
            "28\n",
            "36\n",
            "45\n"
          ]
        }
      ]
    },
    {
      "cell_type": "code",
      "source": [
        "x=[10,20,30]\n",
        "print(x)"
      ],
      "metadata": {
        "colab": {
          "base_uri": "https://localhost:8080/"
        },
        "id": "ZDG-si5BKth_",
        "outputId": "ca5806d8-02ab-4de3-d505-d2e825c1dfee"
      },
      "execution_count": 11,
      "outputs": [
        {
          "output_type": "stream",
          "name": "stdout",
          "text": [
            "[10, 20, 30]\n"
          ]
        }
      ]
    },
    {
      "cell_type": "code",
      "source": [
        "x[0]"
      ],
      "metadata": {
        "colab": {
          "base_uri": "https://localhost:8080/"
        },
        "id": "fQzG8A2_Rfvd",
        "outputId": "df0b3e63-4cee-4520-acd8-2a2763859319"
      },
      "execution_count": 12,
      "outputs": [
        {
          "output_type": "execute_result",
          "data": {
            "text/plain": [
              "10"
            ]
          },
          "metadata": {},
          "execution_count": 12
        }
      ]
    },
    {
      "cell_type": "code",
      "source": [
        "x[1]"
      ],
      "metadata": {
        "colab": {
          "base_uri": "https://localhost:8080/"
        },
        "id": "9xr9IVV9TBy8",
        "outputId": "62ad2794-26ca-4c5c-d9ff-aca8fd5f2313"
      },
      "execution_count": 13,
      "outputs": [
        {
          "output_type": "execute_result",
          "data": {
            "text/plain": [
              "20"
            ]
          },
          "metadata": {},
          "execution_count": 13
        }
      ]
    },
    {
      "cell_type": "code",
      "source": [
        "x[-1]"
      ],
      "metadata": {
        "colab": {
          "base_uri": "https://localhost:8080/"
        },
        "id": "nO3u97t9TD9O",
        "outputId": "c95ec526-a768-41e3-c848-142fa82e2172"
      },
      "execution_count": 14,
      "outputs": [
        {
          "output_type": "execute_result",
          "data": {
            "text/plain": [
              "30"
            ]
          },
          "metadata": {},
          "execution_count": 14
        }
      ]
    },
    {
      "cell_type": "code",
      "source": [
        "x[-2]"
      ],
      "metadata": {
        "colab": {
          "base_uri": "https://localhost:8080/"
        },
        "id": "vTPwCGbFTFt2",
        "outputId": "5c4b565e-4e80-4802-b96a-7f0095604785"
      },
      "execution_count": 15,
      "outputs": [
        {
          "output_type": "execute_result",
          "data": {
            "text/plain": [
              "20"
            ]
          },
          "metadata": {},
          "execution_count": 15
        }
      ]
    },
    {
      "cell_type": "code",
      "source": [
        "x[-3]"
      ],
      "metadata": {
        "colab": {
          "base_uri": "https://localhost:8080/"
        },
        "id": "P-2w9XmYTZQY",
        "outputId": "3fe43748-4c9c-49b0-ea6c-d694257c38bc"
      },
      "execution_count": 16,
      "outputs": [
        {
          "output_type": "execute_result",
          "data": {
            "text/plain": [
              "10"
            ]
          },
          "metadata": {},
          "execution_count": 16
        }
      ]
    },
    {
      "cell_type": "code",
      "source": [
        ""
      ],
      "metadata": {
        "id": "F9fELilQTbnP"
      },
      "execution_count": 16,
      "outputs": []
    }
  ]
}